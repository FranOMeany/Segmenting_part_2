{
    "cells": [
        {
            "cell_type": "markdown",
            "metadata": {
                "collapsed": true
            },
            "source": "### Segmenting and Clustering (Toronto) Part II\n##### by Francisco J. O'Meany"
        },
        {
            "cell_type": "code",
            "execution_count": 1,
            "metadata": {},
            "outputs": [],
            "source": "import pandas as pd\nfrom project_lib import Project"
        },
        {
            "cell_type": "code",
            "execution_count": 2,
            "metadata": {},
            "outputs": [
                {
                    "name": "stdout",
                    "output_type": "stream",
                    "text": "--2020-01-08 06:18:01--  https://francisco.omeany.net/toronto_cluster.csv\nResolving francisco.omeany.net (francisco.omeany.net)... 192.254.157.172\nConnecting to francisco.omeany.net (francisco.omeany.net)|192.254.157.172|:443... connected.\nHTTP request sent, awaiting response... 200 OK\nLength: 4916 (4.8K) [text/csv]\nSaving to: \u2018toronto_cluster.csv\u2019\n\n100%[======================================>] 4,916       --.-K/s   in 0s      \n\n2020-01-08 06:18:02 (162 MB/s) - \u2018toronto_cluster.csv\u2019 saved [4916/4916]\n\n"
                }
            ],
            "source": "# get the neighborhoods data file\n!wget -O toronto_cluster.csv https://francisco.omeany.net/toronto_cluster.csv"
        },
        {
            "cell_type": "code",
            "execution_count": 3,
            "metadata": {},
            "outputs": [
                {
                    "data": {
                        "text/html": "<div>\n<style scoped>\n    .dataframe tbody tr th:only-of-type {\n        vertical-align: middle;\n    }\n\n    .dataframe tbody tr th {\n        vertical-align: top;\n    }\n\n    .dataframe thead th {\n        text-align: right;\n    }\n</style>\n<table border=\"1\" class=\"dataframe\">\n  <thead>\n    <tr style=\"text-align: right;\">\n      <th></th>\n      <th>PostalCode</th>\n      <th>Borough</th>\n      <th>Neighborhood</th>\n    </tr>\n  </thead>\n  <tbody>\n    <tr>\n      <th>0</th>\n      <td>M1B</td>\n      <td>Scarborough</td>\n      <td>Rouge, Malvern</td>\n    </tr>\n    <tr>\n      <th>1</th>\n      <td>M1C</td>\n      <td>Scarborough</td>\n      <td>Highland Creek, Rouge Hill, Port Union</td>\n    </tr>\n    <tr>\n      <th>2</th>\n      <td>M1E</td>\n      <td>Scarborough</td>\n      <td>Guildwood, Morningside, West Hill</td>\n    </tr>\n    <tr>\n      <th>3</th>\n      <td>M1G</td>\n      <td>Scarborough</td>\n      <td>Woburn</td>\n    </tr>\n    <tr>\n      <th>4</th>\n      <td>M1H</td>\n      <td>Scarborough</td>\n      <td>Cedarbrae</td>\n    </tr>\n  </tbody>\n</table>\n</div>",
                        "text/plain": "  PostalCode      Borough                            Neighborhood\n0        M1B  Scarborough                          Rouge, Malvern\n1        M1C  Scarborough  Highland Creek, Rouge Hill, Port Union\n2        M1E  Scarborough       Guildwood, Morningside, West Hill\n3        M1G  Scarborough                                  Woburn\n4        M1H  Scarborough                               Cedarbrae"
                    },
                    "execution_count": 3,
                    "metadata": {},
                    "output_type": "execute_result"
                }
            ],
            "source": "# read csv file\nt_cluster = pd.read_csv('toronto_cluster.csv')\nt_cluster.head()"
        },
        {
            "cell_type": "code",
            "execution_count": 4,
            "metadata": {},
            "outputs": [
                {
                    "name": "stdout",
                    "output_type": "stream",
                    "text": "--2020-01-08 06:18:03--  http://cocl.us/Geospatial_data\nResolving cocl.us (cocl.us)... 159.8.72.228, 159.8.69.24, 159.8.69.21\nConnecting to cocl.us (cocl.us)|159.8.72.228|:80... connected.\nHTTP request sent, awaiting response... 301 Moved Permanently\nLocation: https://cocl.us/Geospatial_data [following]\n--2020-01-08 06:18:03--  https://cocl.us/Geospatial_data\nConnecting to cocl.us (cocl.us)|159.8.72.228|:443... connected.\nHTTP request sent, awaiting response... 301 Moved Permanently\nLocation: https://ibm.box.com/shared/static/9afzr83pps4pwf2smjjcf1y5mvgb18rr.csv [following]\n--2020-01-08 06:18:06--  https://ibm.box.com/shared/static/9afzr83pps4pwf2smjjcf1y5mvgb18rr.csv\nResolving ibm.box.com (ibm.box.com)... 107.152.27.197, 107.152.26.197\nConnecting to ibm.box.com (ibm.box.com)|107.152.27.197|:443... connected.\nHTTP request sent, awaiting response... 301 Moved Permanently\nLocation: /public/static/9afzr83pps4pwf2smjjcf1y5mvgb18rr.csv [following]\n--2020-01-08 06:18:06--  https://ibm.box.com/public/static/9afzr83pps4pwf2smjjcf1y5mvgb18rr.csv\nReusing existing connection to ibm.box.com:443.\nHTTP request sent, awaiting response... 301 Moved Permanently\nLocation: https://ibm.ent.box.com/public/static/9afzr83pps4pwf2smjjcf1y5mvgb18rr.csv [following]\n--2020-01-08 06:18:06--  https://ibm.ent.box.com/public/static/9afzr83pps4pwf2smjjcf1y5mvgb18rr.csv\nResolving ibm.ent.box.com (ibm.ent.box.com)... 107.152.26.211, 107.152.27.211\nConnecting to ibm.ent.box.com (ibm.ent.box.com)|107.152.26.211|:443... connected.\nHTTP request sent, awaiting response... 302 Found\nLocation: https://public.boxcloud.com/d/1/b1!qya1o-NUIPZsRvo5UlEQF85LAUgpn4xssPXomRi71xY_fzLkjDHmR9ZGk-jxx47byaYPBwQFSrbqZumwNAYkTX4fZL_-tuoQlfW8GIAw1s-CNDTG1_c9TqeQabK0743-rc5syp9Aq9eJU6u8QihYd-KalVq7NAaKGXhYYohFFpzyljDpYJ8jYd0XylWNEFex2UoSSDrYz3tZHviaywsJJ96LI1f930rXeX2XCQfDBohL9oc0JWuD1SiqpxaRBaUgkfEQEMaQc_Y94gvag42klZDadiHzcJE6Ji-p94vrGO2PpgmJfA0L6JS-XKr89LtSo7EIuH9ewAgC99YYVygU9wAHYS3bf0OhlIbaXATy7c9K40gAeTOesg3PWiANoW5EcvF_snGHMKk7NDhvbk2guk0p6Wz4dyJh02qRfClekxEVeRhrr5ic506g7A7824O0VRmAZCh8a1_DRGuRwYBCtpUZd-0drcG6QH8lpg8T6JQQqw6nSgBiy64htbeAtZhabwf55ZlT8VM26kX_fA5zkV_KMlgmcb-d-zyQnRxtizsIhtnYQdL8C3NuwHY-uV78xMqpH5gWzkru7CdebWSHIHODUmzCafKy9gN_XinIInv1hLldepUT8P1wDIVmAzVejeoTbgeNMTcMoGlQSIUyoKcypenmMQEzLLDYamJidmKk5Db-8jmQHiv0W1-8wFMOG8T6ZJ1mqHGbNR2PfQcOV5bU6Ib_CZcN73EKPPcwyhg3Z_KFc527o3GaIZ0HbQmMkof2-WFPIJFxl8JQwKfBNN6O1Me5SeRJTrxoDZvKIyXMNzloNycYRuMDuWxGufZI-kZAZ0Le9n9JsHMlxl3aDqNIzRc7_SMHHM1FW9kSTvGHLaW8chLYRYUhbwKtQ06GdkAhMVmH9tttENqre3bnDo5DZu4RQPoHjA3oxuD-zalhqReqP5nnhTrJ98C2w9POINljVGx_CkcYH0UfpWBnu3GytWcl4eDQqUeMpCINvE6pmZY78J63FS0IrCj4Qj2xzGQggW8ocLi9qwmirjLmoFvudoj4SGD-lNIR1yeaFkbtTzt2Rso2az9TkNTewXnxjhZ22tKuGS3eSqn2KThvdsIMU14W0F9yJLnD0Q6RJIYFHABcxlZMAN9XBe5kSF53Td4d6_qCogE7waoG8TcDJcDggFxDzKtftmDGfOSi5pOTjH7WEMH9UEU9YQTJBxmJq_yi5im8SQ_mFLdIyVguiyVmp8-6nraHy8d8FhKPmY_ZaJJfOXglpz1JFkNJhk1RCZnSNnSEkL8dkkkd7EFj0GrTOq_kUqlqW4liTgKOmhnoKtEwoLo1L_E8sQuXT7zFPn9je55ZlEaBEYDfF9sA5_adthmrGLsRRLHt5IgKgNsOiI5-UHZhai69nAjB/download [following]\n--2020-01-08 06:18:07--  https://public.boxcloud.com/d/1/b1!qya1o-NUIPZsRvo5UlEQF85LAUgpn4xssPXomRi71xY_fzLkjDHmR9ZGk-jxx47byaYPBwQFSrbqZumwNAYkTX4fZL_-tuoQlfW8GIAw1s-CNDTG1_c9TqeQabK0743-rc5syp9Aq9eJU6u8QihYd-KalVq7NAaKGXhYYohFFpzyljDpYJ8jYd0XylWNEFex2UoSSDrYz3tZHviaywsJJ96LI1f930rXeX2XCQfDBohL9oc0JWuD1SiqpxaRBaUgkfEQEMaQc_Y94gvag42klZDadiHzcJE6Ji-p94vrGO2PpgmJfA0L6JS-XKr89LtSo7EIuH9ewAgC99YYVygU9wAHYS3bf0OhlIbaXATy7c9K40gAeTOesg3PWiANoW5EcvF_snGHMKk7NDhvbk2guk0p6Wz4dyJh02qRfClekxEVeRhrr5ic506g7A7824O0VRmAZCh8a1_DRGuRwYBCtpUZd-0drcG6QH8lpg8T6JQQqw6nSgBiy64htbeAtZhabwf55ZlT8VM26kX_fA5zkV_KMlgmcb-d-zyQnRxtizsIhtnYQdL8C3NuwHY-uV78xMqpH5gWzkru7CdebWSHIHODUmzCafKy9gN_XinIInv1hLldepUT8P1wDIVmAzVejeoTbgeNMTcMoGlQSIUyoKcypenmMQEzLLDYamJidmKk5Db-8jmQHiv0W1-8wFMOG8T6ZJ1mqHGbNR2PfQcOV5bU6Ib_CZcN73EKPPcwyhg3Z_KFc527o3GaIZ0HbQmMkof2-WFPIJFxl8JQwKfBNN6O1Me5SeRJTrxoDZvKIyXMNzloNycYRuMDuWxGufZI-kZAZ0Le9n9JsHMlxl3aDqNIzRc7_SMHHM1FW9kSTvGHLaW8chLYRYUhbwKtQ06GdkAhMVmH9tttENqre3bnDo5DZu4RQPoHjA3oxuD-zalhqReqP5nnhTrJ98C2w9POINljVGx_CkcYH0UfpWBnu3GytWcl4eDQqUeMpCINvE6pmZY78J63FS0IrCj4Qj2xzGQggW8ocLi9qwmirjLmoFvudoj4SGD-lNIR1yeaFkbtTzt2Rso2az9TkNTewXnxjhZ22tKuGS3eSqn2KThvdsIMU14W0F9yJLnD0Q6RJIYFHABcxlZMAN9XBe5kSF53Td4d6_qCogE7waoG8TcDJcDggFxDzKtftmDGfOSi5pOTjH7WEMH9UEU9YQTJBxmJq_yi5im8SQ_mFLdIyVguiyVmp8-6nraHy8d8FhKPmY_ZaJJfOXglpz1JFkNJhk1RCZnSNnSEkL8dkkkd7EFj0GrTOq_kUqlqW4liTgKOmhnoKtEwoLo1L_E8sQuXT7zFPn9je55ZlEaBEYDfF9sA5_adthmrGLsRRLHt5IgKgNsOiI5-UHZhai69nAjB/download\nResolving public.boxcloud.com (public.boxcloud.com)... 107.152.24.200\nConnecting to public.boxcloud.com (public.boxcloud.com)|107.152.24.200|:443... connected.\nHTTP request sent, awaiting response... 200 OK\nLength: 2891 (2.8K) [text/csv]\nSaving to: \u2018Geospatial_Coordinates.csv\u2019\n\n100%[======================================>] 2,891       --.-K/s   in 0s      \n\n2020-01-08 06:18:07 (297 MB/s) - \u2018Geospatial_Coordinates.csv\u2019 saved [2891/2891]\n\n"
                }
            ],
            "source": "# get the geo data file\n!wget -O Geospatial_Coordinates.csv http://cocl.us/Geospatial_data"
        },
        {
            "cell_type": "code",
            "execution_count": 5,
            "metadata": {},
            "outputs": [],
            "source": "# define dataframe columns\ncolumn_names = ['PostalCode', 'Borough', 'Neighborhood', 'Latitude', 'Longitude']\n\n# instantiate the dataframe\nneighborhoods = pd.DataFrame(columns=column_names)"
        },
        {
            "cell_type": "code",
            "execution_count": 6,
            "metadata": {},
            "outputs": [
                {
                    "data": {
                        "text/html": "<div>\n<style scoped>\n    .dataframe tbody tr th:only-of-type {\n        vertical-align: middle;\n    }\n\n    .dataframe tbody tr th {\n        vertical-align: top;\n    }\n\n    .dataframe thead th {\n        text-align: right;\n    }\n</style>\n<table border=\"1\" class=\"dataframe\">\n  <thead>\n    <tr style=\"text-align: right;\">\n      <th></th>\n      <th>PostalCode</th>\n      <th>Borough</th>\n      <th>Neighborhood</th>\n      <th>Latitude</th>\n      <th>Longitude</th>\n    </tr>\n  </thead>\n  <tbody>\n  </tbody>\n</table>\n</div>",
                        "text/plain": "Empty DataFrame\nColumns: [PostalCode, Borough, Neighborhood, Latitude, Longitude]\nIndex: []"
                    },
                    "execution_count": 6,
                    "metadata": {},
                    "output_type": "execute_result"
                }
            ],
            "source": "neighborhoods"
        },
        {
            "cell_type": "code",
            "execution_count": 7,
            "metadata": {},
            "outputs": [
                {
                    "data": {
                        "text/html": "<div>\n<style scoped>\n    .dataframe tbody tr th:only-of-type {\n        vertical-align: middle;\n    }\n\n    .dataframe tbody tr th {\n        vertical-align: top;\n    }\n\n    .dataframe thead th {\n        text-align: right;\n    }\n</style>\n<table border=\"1\" class=\"dataframe\">\n  <thead>\n    <tr style=\"text-align: right;\">\n      <th></th>\n      <th>Postal Code</th>\n      <th>Latitude</th>\n      <th>Longitude</th>\n    </tr>\n  </thead>\n  <tbody>\n    <tr>\n      <th>0</th>\n      <td>M1B</td>\n      <td>43.806686</td>\n      <td>-79.194353</td>\n    </tr>\n    <tr>\n      <th>1</th>\n      <td>M1C</td>\n      <td>43.784535</td>\n      <td>-79.160497</td>\n    </tr>\n    <tr>\n      <th>2</th>\n      <td>M1E</td>\n      <td>43.763573</td>\n      <td>-79.188711</td>\n    </tr>\n    <tr>\n      <th>3</th>\n      <td>M1G</td>\n      <td>43.770992</td>\n      <td>-79.216917</td>\n    </tr>\n    <tr>\n      <th>4</th>\n      <td>M1H</td>\n      <td>43.773136</td>\n      <td>-79.239476</td>\n    </tr>\n  </tbody>\n</table>\n</div>",
                        "text/plain": "  Postal Code   Latitude  Longitude\n0         M1B  43.806686 -79.194353\n1         M1C  43.784535 -79.160497\n2         M1E  43.763573 -79.188711\n3         M1G  43.770992 -79.216917\n4         M1H  43.773136 -79.239476"
                    },
                    "execution_count": 7,
                    "metadata": {},
                    "output_type": "execute_result"
                }
            ],
            "source": "df_geocode = pd.read_csv('Geospatial_Coordinates.csv')\ndf_geocode.head()"
        },
        {
            "cell_type": "code",
            "execution_count": 8,
            "metadata": {},
            "outputs": [],
            "source": "# fill the dataframe\nfor index, data in t_cluster.iterrows():\n    postal = data['PostalCode']\n    borough = data['Borough']\n    neighborhood = data['Neighborhood']\n    latlon = df_geocode[df_geocode['Postal Code'].str.contains(postal, regex=False)]\n    latlon = latlon.round(decimals=6)\n    latitude = list(latlon['Latitude'].astype(str))[0]\n    longitude = list(latlon['Longitude'].astype(str))[0]\n    \n    neighborhoods = neighborhoods.append({'PostalCode':postal,\n                                          'Borough':borough,\n                                          'Neighborhood':neighborhood,\n                                          'Latitude':latitude,\n                                          'Longitude':longitude}, ignore_index=True)\n"
        },
        {
            "cell_type": "code",
            "execution_count": 9,
            "metadata": {},
            "outputs": [
                {
                    "data": {
                        "text/html": "<div>\n<style scoped>\n    .dataframe tbody tr th:only-of-type {\n        vertical-align: middle;\n    }\n\n    .dataframe tbody tr th {\n        vertical-align: top;\n    }\n\n    .dataframe thead th {\n        text-align: right;\n    }\n</style>\n<table border=\"1\" class=\"dataframe\">\n  <thead>\n    <tr style=\"text-align: right;\">\n      <th></th>\n      <th>PostalCode</th>\n      <th>Borough</th>\n      <th>Neighborhood</th>\n      <th>Latitude</th>\n      <th>Longitude</th>\n    </tr>\n  </thead>\n  <tbody>\n    <tr>\n      <th>0</th>\n      <td>M1B</td>\n      <td>Scarborough</td>\n      <td>Rouge, Malvern</td>\n      <td>43.806686</td>\n      <td>-79.194353</td>\n    </tr>\n    <tr>\n      <th>1</th>\n      <td>M1C</td>\n      <td>Scarborough</td>\n      <td>Highland Creek, Rouge Hill, Port Union</td>\n      <td>43.784535</td>\n      <td>-79.160497</td>\n    </tr>\n    <tr>\n      <th>2</th>\n      <td>M1E</td>\n      <td>Scarborough</td>\n      <td>Guildwood, Morningside, West Hill</td>\n      <td>43.763573</td>\n      <td>-79.188712</td>\n    </tr>\n    <tr>\n      <th>3</th>\n      <td>M1G</td>\n      <td>Scarborough</td>\n      <td>Woburn</td>\n      <td>43.770992</td>\n      <td>-79.216917</td>\n    </tr>\n    <tr>\n      <th>4</th>\n      <td>M1H</td>\n      <td>Scarborough</td>\n      <td>Cedarbrae</td>\n      <td>43.773136</td>\n      <td>-79.239476</td>\n    </tr>\n  </tbody>\n</table>\n</div>",
                        "text/plain": "  PostalCode      Borough                            Neighborhood   Latitude  \\\n0        M1B  Scarborough                          Rouge, Malvern  43.806686   \n1        M1C  Scarborough  Highland Creek, Rouge Hill, Port Union  43.784535   \n2        M1E  Scarborough       Guildwood, Morningside, West Hill  43.763573   \n3        M1G  Scarborough                                  Woburn  43.770992   \n4        M1H  Scarborough                               Cedarbrae  43.773136   \n\n    Longitude  \n0  -79.194353  \n1  -79.160497  \n2  -79.188712  \n3  -79.216917  \n4  -79.239476  "
                    },
                    "execution_count": 9,
                    "metadata": {},
                    "output_type": "execute_result"
                }
            ],
            "source": "# Save dataframe as csv file to storage\nproject = Project(None, \"b54d8622-d5b9-40f8-83ec-c6ee80f7d05f\", \"p-b7d8e41e53341a4e89ef2c22ad70876d93cf3e63\")\nproject.save_data(data=neighborhoods.to_csv(index=False),file_name='toronto_neighborhoods.csv',overwrite=True)\n\nneighborhoods.head()"
        }
    ],
    "metadata": {
        "kernelspec": {
            "display_name": "Python 3.6",
            "language": "python",
            "name": "python3"
        },
        "language_info": {
            "codemirror_mode": {
                "name": "ipython",
                "version": 3
            },
            "file_extension": ".py",
            "mimetype": "text/x-python",
            "name": "python",
            "nbconvert_exporter": "python",
            "pygments_lexer": "ipython3",
            "version": "3.6.8"
        }
    },
    "nbformat": 4,
    "nbformat_minor": 1
}
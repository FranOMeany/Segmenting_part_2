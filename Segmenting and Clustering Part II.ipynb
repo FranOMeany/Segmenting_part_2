{
    "cells": [
        {
            "cell_type": "markdown",
            "metadata": {
                "collapsed": true
            },
            "source": "### Segmenting and Clustering (Toronto) Part II\n##### by Francisco J. O'Meany"
        },
        {
            "cell_type": "code",
            "execution_count": 1,
            "metadata": {},
            "outputs": [],
            "source": "import pandas as pd\n"
        },
        {
            "cell_type": "code",
            "execution_count": 2,
            "metadata": {},
            "outputs": [
                {
                    "name": "stdout",
                    "output_type": "stream",
                    "text": "--2020-01-08 05:54:56--  https://francisco.omeany.net/toronto_cluster.csv\nResolving francisco.omeany.net (francisco.omeany.net)... 192.254.157.172\nConnecting to francisco.omeany.net (francisco.omeany.net)|192.254.157.172|:443... connected.\nHTTP request sent, awaiting response... 200 OK\nLength: 4916 (4.8K) [text/csv]\nSaving to: \u2018toronto_cluster.csv\u2019\n\n100%[======================================>] 4,916       --.-K/s   in 0s      \n\n2020-01-08 05:54:57 (167 MB/s) - \u2018toronto_cluster.csv\u2019 saved [4916/4916]\n\n"
                }
            ],
            "source": "# get the neighborhoods data file\n!wget -O toronto_cluster.csv https://francisco.omeany.net/toronto_cluster.csv"
        },
        {
            "cell_type": "code",
            "execution_count": 3,
            "metadata": {},
            "outputs": [
                {
                    "data": {
                        "text/html": "<div>\n<style scoped>\n    .dataframe tbody tr th:only-of-type {\n        vertical-align: middle;\n    }\n\n    .dataframe tbody tr th {\n        vertical-align: top;\n    }\n\n    .dataframe thead th {\n        text-align: right;\n    }\n</style>\n<table border=\"1\" class=\"dataframe\">\n  <thead>\n    <tr style=\"text-align: right;\">\n      <th></th>\n      <th>PostalCode</th>\n      <th>Borough</th>\n      <th>Neighborhood</th>\n    </tr>\n  </thead>\n  <tbody>\n    <tr>\n      <th>0</th>\n      <td>M1B</td>\n      <td>Scarborough</td>\n      <td>Rouge, Malvern</td>\n    </tr>\n    <tr>\n      <th>1</th>\n      <td>M1C</td>\n      <td>Scarborough</td>\n      <td>Highland Creek, Rouge Hill, Port Union</td>\n    </tr>\n    <tr>\n      <th>2</th>\n      <td>M1E</td>\n      <td>Scarborough</td>\n      <td>Guildwood, Morningside, West Hill</td>\n    </tr>\n    <tr>\n      <th>3</th>\n      <td>M1G</td>\n      <td>Scarborough</td>\n      <td>Woburn</td>\n    </tr>\n    <tr>\n      <th>4</th>\n      <td>M1H</td>\n      <td>Scarborough</td>\n      <td>Cedarbrae</td>\n    </tr>\n  </tbody>\n</table>\n</div>",
                        "text/plain": "  PostalCode      Borough                            Neighborhood\n0        M1B  Scarborough                          Rouge, Malvern\n1        M1C  Scarborough  Highland Creek, Rouge Hill, Port Union\n2        M1E  Scarborough       Guildwood, Morningside, West Hill\n3        M1G  Scarborough                                  Woburn\n4        M1H  Scarborough                               Cedarbrae"
                    },
                    "execution_count": 3,
                    "metadata": {},
                    "output_type": "execute_result"
                }
            ],
            "source": "# read csv file\nt_cluster = pd.read_csv('toronto_cluster.csv')\nt_cluster.head()"
        },
        {
            "cell_type": "code",
            "execution_count": 4,
            "metadata": {},
            "outputs": [
                {
                    "name": "stdout",
                    "output_type": "stream",
                    "text": "--2020-01-08 05:54:58--  http://cocl.us/Geospatial_data\nResolving cocl.us (cocl.us)... 169.48.113.194, 158.85.108.86, 158.85.108.83\nConnecting to cocl.us (cocl.us)|169.48.113.194|:80... connected.\nHTTP request sent, awaiting response... 301 Moved Permanently\nLocation: https://cocl.us/Geospatial_data [following]\n--2020-01-08 05:54:58--  https://cocl.us/Geospatial_data\nConnecting to cocl.us (cocl.us)|169.48.113.194|:443... connected.\nHTTP request sent, awaiting response... 301 Moved Permanently\nLocation: https://ibm.box.com/shared/static/9afzr83pps4pwf2smjjcf1y5mvgb18rr.csv [following]\n--2020-01-08 05:54:59--  https://ibm.box.com/shared/static/9afzr83pps4pwf2smjjcf1y5mvgb18rr.csv\nResolving ibm.box.com (ibm.box.com)... 107.152.26.197, 107.152.27.197\nConnecting to ibm.box.com (ibm.box.com)|107.152.26.197|:443... connected.\nHTTP request sent, awaiting response... 301 Moved Permanently\nLocation: /public/static/9afzr83pps4pwf2smjjcf1y5mvgb18rr.csv [following]\n--2020-01-08 05:54:59--  https://ibm.box.com/public/static/9afzr83pps4pwf2smjjcf1y5mvgb18rr.csv\nReusing existing connection to ibm.box.com:443.\nHTTP request sent, awaiting response... 301 Moved Permanently\nLocation: https://ibm.ent.box.com/public/static/9afzr83pps4pwf2smjjcf1y5mvgb18rr.csv [following]\n--2020-01-08 05:54:59--  https://ibm.ent.box.com/public/static/9afzr83pps4pwf2smjjcf1y5mvgb18rr.csv\nResolving ibm.ent.box.com (ibm.ent.box.com)... 107.152.27.211, 107.152.26.211\nConnecting to ibm.ent.box.com (ibm.ent.box.com)|107.152.27.211|:443... connected.\nHTTP request sent, awaiting response... 302 Found\nLocation: https://public.boxcloud.com/d/1/b1!w5eVZYW-_OXvNCXnpt-iPQOYo-X5Q1MF9E2rDfyaZkUf2UIZCsDOFiV6XwDoLqpORmBYbht8tSnnxATVevCpTxyjGJFEbIwJg0fLIwFB_qmExCOPX3UuYFiLHN82-iMl4N3R_AGTeBZtzKELeEaxgAwIpcOwIOa6Umxf8-YMYm0_M2bFOiZ8GLF-v-odV9plt222BdQBpndZlo_j_xexg_Um510BW8blch-plz8-tK9GbWwcWzJHypKk94j1U5tn7e6NCa-RU4mu-O0a6e1JQzAiLnF_jRDxoR_sfN0SsorzUVavsM4N_6ZV7rRWqo2a3_pjrnVDlDHKl-GDhfs5fcbJWXTmTJa-nNNJGxOcHFEcVHwd_6_rOxYCFBAvnYSnZ7Vmy-Gl8lvK2kRM2wHo30kpC2l-Iz5cDLeGK__N1genx8HV7n4SnKZIY4oEnF8dW7ZSvRnpQ-Qvs4ScHGGlrweTxJ42oxu3yWisZOJWLjfz7W0Iu1XMsdbi5fT4Y3IdekkV8n7BeaWN2iV6DMxNqlL4ffrQz0dj_-BawpS8ORYkXtDH62I8nJuSvp3kda-GdmIqFv1Y99Z62n-MP0vyR-DPSUV6zHigXdz-pdwKTtCoYZNbAxntNTCSCaeSKlbexDeZ-iHSnvU_M_DJRBakOCqjptGJuhU_WrjuGXKvsLNXA9l1uTs5Pdogf5uuqWPzjW269S9f85Aj6E6C9x-HsiVMxP94oh2Xu5UE_lTooHIJ7USw9QBn_Crq4aV_3agvQ5Qw34HAQiHo2V9UHyWxDZAEFfM5-zKHPFvfvo_ZwfyZl5sSaBY7U6hr_5PmZZ5p8altIyluqL8F0OHYhk7vCUnM50Z9tU0vqR7EYREiP0eJrNIZBGxmHbda7Z6bDkuY1FcVIsYoOomzk75N6fr2Z3xh_I73swo7XBswp0q7-hMcFYzmGfcqA6xg02hu6P40DjcSgyiRbzzsEWW6zt9IIgEMGmESb29Qhq1WwP1h3u6G9AkQy95MQcM6prIRMy8yeE4Txrb2ORilDdXfWZEtLUSsagaayP76gIvbg5eNdN6SvcWLPWlvMVwjARD-NKAFJQumZp8nZdKyNKzxX4e8J7vzjyJPv--2QlcFqAqjwXcDVa0mgEVL_XUbOhzYob9f1LNb7xiI0zUM-qndYN2oFztY1kGQWu5AjdwcYW1dv4IthUMn-yxcFBHK8h_FXna24cfcqbi2GZzNHc-BmPzCSY0SQt_FfQTlVEZJFqSsf26Wu1NdiRGCTYFiQdlhmU2P5M5QXN5jFx31gWcIZIgRwRqqu27m6Ycq33ZPK3Ud6RocHek7gMgvK9I2txg-ftIMZUXjwNJt3OpqCMeD4tJs7Jefl_w5w8EfieWbYMWE_4VPS4Byxsbj7iVd5ZA./download [following]\n--2020-01-08 05:55:00--  https://public.boxcloud.com/d/1/b1!w5eVZYW-_OXvNCXnpt-iPQOYo-X5Q1MF9E2rDfyaZkUf2UIZCsDOFiV6XwDoLqpORmBYbht8tSnnxATVevCpTxyjGJFEbIwJg0fLIwFB_qmExCOPX3UuYFiLHN82-iMl4N3R_AGTeBZtzKELeEaxgAwIpcOwIOa6Umxf8-YMYm0_M2bFOiZ8GLF-v-odV9plt222BdQBpndZlo_j_xexg_Um510BW8blch-plz8-tK9GbWwcWzJHypKk94j1U5tn7e6NCa-RU4mu-O0a6e1JQzAiLnF_jRDxoR_sfN0SsorzUVavsM4N_6ZV7rRWqo2a3_pjrnVDlDHKl-GDhfs5fcbJWXTmTJa-nNNJGxOcHFEcVHwd_6_rOxYCFBAvnYSnZ7Vmy-Gl8lvK2kRM2wHo30kpC2l-Iz5cDLeGK__N1genx8HV7n4SnKZIY4oEnF8dW7ZSvRnpQ-Qvs4ScHGGlrweTxJ42oxu3yWisZOJWLjfz7W0Iu1XMsdbi5fT4Y3IdekkV8n7BeaWN2iV6DMxNqlL4ffrQz0dj_-BawpS8ORYkXtDH62I8nJuSvp3kda-GdmIqFv1Y99Z62n-MP0vyR-DPSUV6zHigXdz-pdwKTtCoYZNbAxntNTCSCaeSKlbexDeZ-iHSnvU_M_DJRBakOCqjptGJuhU_WrjuGXKvsLNXA9l1uTs5Pdogf5uuqWPzjW269S9f85Aj6E6C9x-HsiVMxP94oh2Xu5UE_lTooHIJ7USw9QBn_Crq4aV_3agvQ5Qw34HAQiHo2V9UHyWxDZAEFfM5-zKHPFvfvo_ZwfyZl5sSaBY7U6hr_5PmZZ5p8altIyluqL8F0OHYhk7vCUnM50Z9tU0vqR7EYREiP0eJrNIZBGxmHbda7Z6bDkuY1FcVIsYoOomzk75N6fr2Z3xh_I73swo7XBswp0q7-hMcFYzmGfcqA6xg02hu6P40DjcSgyiRbzzsEWW6zt9IIgEMGmESb29Qhq1WwP1h3u6G9AkQy95MQcM6prIRMy8yeE4Txrb2ORilDdXfWZEtLUSsagaayP76gIvbg5eNdN6SvcWLPWlvMVwjARD-NKAFJQumZp8nZdKyNKzxX4e8J7vzjyJPv--2QlcFqAqjwXcDVa0mgEVL_XUbOhzYob9f1LNb7xiI0zUM-qndYN2oFztY1kGQWu5AjdwcYW1dv4IthUMn-yxcFBHK8h_FXna24cfcqbi2GZzNHc-BmPzCSY0SQt_FfQTlVEZJFqSsf26Wu1NdiRGCTYFiQdlhmU2P5M5QXN5jFx31gWcIZIgRwRqqu27m6Ycq33ZPK3Ud6RocHek7gMgvK9I2txg-ftIMZUXjwNJt3OpqCMeD4tJs7Jefl_w5w8EfieWbYMWE_4VPS4Byxsbj7iVd5ZA./download\nResolving public.boxcloud.com (public.boxcloud.com)... 107.152.26.200\nConnecting to public.boxcloud.com (public.boxcloud.com)|107.152.26.200|:443... connected.\nHTTP request sent, awaiting response... 200 OK\nLength: 2891 (2.8K) [text/csv]\nSaving to: \u2018Geospatial_Coordinates.csv\u2019\n\n100%[======================================>] 2,891       --.-K/s   in 0s      \n\n2020-01-08 05:55:00 (274 MB/s) - \u2018Geospatial_Coordinates.csv\u2019 saved [2891/2891]\n\n"
                }
            ],
            "source": "# get the geo data file\n!wget -O Geospatial_Coordinates.csv http://cocl.us/Geospatial_data"
        },
        {
            "cell_type": "code",
            "execution_count": 5,
            "metadata": {},
            "outputs": [],
            "source": "# define dataframe columns\ncolumn_names = ['PostalCode', 'Borough', 'Neighborhood', 'Latitude', 'Longitude']\n\n# instantiate the dataframe\nneighborhoods = pd.DataFrame(columns=column_names)"
        },
        {
            "cell_type": "code",
            "execution_count": 6,
            "metadata": {},
            "outputs": [
                {
                    "data": {
                        "text/html": "<div>\n<style scoped>\n    .dataframe tbody tr th:only-of-type {\n        vertical-align: middle;\n    }\n\n    .dataframe tbody tr th {\n        vertical-align: top;\n    }\n\n    .dataframe thead th {\n        text-align: right;\n    }\n</style>\n<table border=\"1\" class=\"dataframe\">\n  <thead>\n    <tr style=\"text-align: right;\">\n      <th></th>\n      <th>PostalCode</th>\n      <th>Borough</th>\n      <th>Neighborhood</th>\n      <th>Latitude</th>\n      <th>Longitude</th>\n    </tr>\n  </thead>\n  <tbody>\n  </tbody>\n</table>\n</div>",
                        "text/plain": "Empty DataFrame\nColumns: [PostalCode, Borough, Neighborhood, Latitude, Longitude]\nIndex: []"
                    },
                    "execution_count": 6,
                    "metadata": {},
                    "output_type": "execute_result"
                }
            ],
            "source": "neighborhoods"
        },
        {
            "cell_type": "code",
            "execution_count": 7,
            "metadata": {},
            "outputs": [
                {
                    "data": {
                        "text/html": "<div>\n<style scoped>\n    .dataframe tbody tr th:only-of-type {\n        vertical-align: middle;\n    }\n\n    .dataframe tbody tr th {\n        vertical-align: top;\n    }\n\n    .dataframe thead th {\n        text-align: right;\n    }\n</style>\n<table border=\"1\" class=\"dataframe\">\n  <thead>\n    <tr style=\"text-align: right;\">\n      <th></th>\n      <th>Postal Code</th>\n      <th>Latitude</th>\n      <th>Longitude</th>\n    </tr>\n  </thead>\n  <tbody>\n    <tr>\n      <th>0</th>\n      <td>M1B</td>\n      <td>43.806686</td>\n      <td>-79.194353</td>\n    </tr>\n    <tr>\n      <th>1</th>\n      <td>M1C</td>\n      <td>43.784535</td>\n      <td>-79.160497</td>\n    </tr>\n    <tr>\n      <th>2</th>\n      <td>M1E</td>\n      <td>43.763573</td>\n      <td>-79.188711</td>\n    </tr>\n    <tr>\n      <th>3</th>\n      <td>M1G</td>\n      <td>43.770992</td>\n      <td>-79.216917</td>\n    </tr>\n    <tr>\n      <th>4</th>\n      <td>M1H</td>\n      <td>43.773136</td>\n      <td>-79.239476</td>\n    </tr>\n  </tbody>\n</table>\n</div>",
                        "text/plain": "  Postal Code   Latitude  Longitude\n0         M1B  43.806686 -79.194353\n1         M1C  43.784535 -79.160497\n2         M1E  43.763573 -79.188711\n3         M1G  43.770992 -79.216917\n4         M1H  43.773136 -79.239476"
                    },
                    "execution_count": 7,
                    "metadata": {},
                    "output_type": "execute_result"
                }
            ],
            "source": "df_geocode = pd.read_csv('Geospatial_Coordinates.csv')\ndf_geocode.head()"
        },
        {
            "cell_type": "code",
            "execution_count": 8,
            "metadata": {},
            "outputs": [],
            "source": "# fill the dataframe\nfor index, data in t_cluster.iterrows():\n    postal = data['PostalCode']\n    borough = data['Borough']\n    neighborhood = data['Neighborhood']\n    latlon = df_geocode[df_geocode['Postal Code'].str.contains(postal, regex=False)]\n    latlon = latlon.round(decimals=6)\n    latitude = list(latlon['Latitude'].astype(str))[0]\n    longitude = list(latlon['Longitude'].astype(str))[0]\n    \n    neighborhoods = neighborhoods.append({'PostalCode':postal,\n                                          'Borough':borough,\n                                          'Neighborhood':neighborhood,\n                                          'Latitude':latitude,\n                                          'Longitude':longitude}, ignore_index=True)\n"
        },
        {
            "cell_type": "code",
            "execution_count": 9,
            "metadata": {},
            "outputs": [
                {
                    "data": {
                        "text/html": "<div>\n<style scoped>\n    .dataframe tbody tr th:only-of-type {\n        vertical-align: middle;\n    }\n\n    .dataframe tbody tr th {\n        vertical-align: top;\n    }\n\n    .dataframe thead th {\n        text-align: right;\n    }\n</style>\n<table border=\"1\" class=\"dataframe\">\n  <thead>\n    <tr style=\"text-align: right;\">\n      <th></th>\n      <th>PostalCode</th>\n      <th>Borough</th>\n      <th>Neighborhood</th>\n      <th>Latitude</th>\n      <th>Longitude</th>\n    </tr>\n  </thead>\n  <tbody>\n    <tr>\n      <th>0</th>\n      <td>M1B</td>\n      <td>Scarborough</td>\n      <td>Rouge, Malvern</td>\n      <td>43.806686</td>\n      <td>-79.194353</td>\n    </tr>\n    <tr>\n      <th>1</th>\n      <td>M1C</td>\n      <td>Scarborough</td>\n      <td>Highland Creek, Rouge Hill, Port Union</td>\n      <td>43.784535</td>\n      <td>-79.160497</td>\n    </tr>\n    <tr>\n      <th>2</th>\n      <td>M1E</td>\n      <td>Scarborough</td>\n      <td>Guildwood, Morningside, West Hill</td>\n      <td>43.763573</td>\n      <td>-79.188712</td>\n    </tr>\n    <tr>\n      <th>3</th>\n      <td>M1G</td>\n      <td>Scarborough</td>\n      <td>Woburn</td>\n      <td>43.770992</td>\n      <td>-79.216917</td>\n    </tr>\n    <tr>\n      <th>4</th>\n      <td>M1H</td>\n      <td>Scarborough</td>\n      <td>Cedarbrae</td>\n      <td>43.773136</td>\n      <td>-79.239476</td>\n    </tr>\n  </tbody>\n</table>\n</div>",
                        "text/plain": "  PostalCode      Borough                            Neighborhood   Latitude  \\\n0        M1B  Scarborough                          Rouge, Malvern  43.806686   \n1        M1C  Scarborough  Highland Creek, Rouge Hill, Port Union  43.784535   \n2        M1E  Scarborough       Guildwood, Morningside, West Hill  43.763573   \n3        M1G  Scarborough                                  Woburn  43.770992   \n4        M1H  Scarborough                               Cedarbrae  43.773136   \n\n    Longitude  \n0  -79.194353  \n1  -79.160497  \n2  -79.188712  \n3  -79.216917  \n4  -79.239476  "
                    },
                    "execution_count": 9,
                    "metadata": {},
                    "output_type": "execute_result"
                }
            ],
            "source": "neighborhoods.head()"
        }
    ],
    "metadata": {
        "kernelspec": {
            "display_name": "Python 3.6",
            "language": "python",
            "name": "python3"
        },
        "language_info": {
            "codemirror_mode": {
                "name": "ipython",
                "version": 3
            },
            "file_extension": ".py",
            "mimetype": "text/x-python",
            "name": "python",
            "nbconvert_exporter": "python",
            "pygments_lexer": "ipython3",
            "version": "3.6.8"
        }
    },
    "nbformat": 4,
    "nbformat_minor": 1
}